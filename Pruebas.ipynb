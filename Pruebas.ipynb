{
 "cells": [
  {
   "cell_type": "code",
   "execution_count": 4,
   "id": "6c8c4083-29a7-42c4-b1bc-02827092f98e",
   "metadata": {},
   "outputs": [
    {
     "name": "stdout",
     "output_type": "stream",
     "text": [
      "['01', '02', '03', '04', '05', '06', '07', '08', '09', '10', '11', '12', '13', '14', '15', '16', '17', '18', '19', '20', '21', '22', '23', '24', '25', '26', '27', '28', '29', '30', '31']\n"
     ]
    },
    {
     "data": {
      "image/png": "[encoded data removed]",
      "text/plain": [
       "<Figure size 432x288 with 1 Axes>"
      ]
     },
     "metadata": {
      "needs_background": "light"
     },
     "output_type": "display_data"
    }
   ],
   "source": [
    "# importamos las librerías que vamos a necesitar\n",
    "import pandas as pd\n",
    "import matplotlib.pyplot as plt\n",
    "import matplotlib.dates as mdates\n",
    "import datetime\n",
    "import numpy as np\n",
    "\n",
    "# nuestra librería\n",
    "#import ist_lib as ist\n",
    "\n",
    "\n",
    "def read_im(filename):\n",
    "    \n",
    "    dd=dict();\n",
    "   \n",
    "    # leer el fichero por líneas\n",
    "    f=open(filename)\n",
    "    lines=f.readlines()\n",
    "    \n",
    "    # obtener el tamaño de la cabecera\n",
    "    head_size=0\n",
    "    while lines[head_size][0] != 'D':\n",
    "        head_size+=1\n",
    "\n",
    "    # obtener cúales son las componentes: 'HDZF', 'XYZF' u otras\n",
    "    comp=lines[7].split()[1]\n",
    "    \n",
    "    # obtener la latitud y la longitud geográfica del observatorio\n",
    "    lat=lines[4].split()[2]\n",
    "    lon=lines[5].split()[2]\n",
    "    \n",
    "    names=['datetime','doy','c1','c2','c3','c4']\n",
    "    colspecs=[(0,23), (25,27), (32,40), (42,50), (52,60), (62,70)]\n",
    "    data=pd.read_fwf(filename,header=head_size,names=names, colspecs=colspecs)\n",
    "\n",
    "    # Transform 99999 values to NaN\n",
    "    data.c1 = np.where(data.c1 == 99999, data.c1*np.nan, data.c1)\n",
    "    data.c2 = np.where(data.c2 == 99999, data.c2*np.nan, data.c2)\n",
    "    data.c3 = np.where(data.c3 == 99999, data.c3*np.nan, data.c3)\n",
    "    data.c4 = np.where(data.c4 == 99999, data.c4*np.nan, data.c4)\n",
    "\n",
    "\n",
    "    dd['data']=data\n",
    "    dd['lon']=lon\n",
    "    dd['lat']=lat\n",
    "    dd['comp']=comp\n",
    "    \n",
    "    return dd  \n",
    "\n",
    "\n",
    "folder='dst_stations/2015-03/'\n",
    "month='201503'\n",
    "\n",
    "# observatorios usados para el índice Dst\n",
    "obs=['her','hon','kak','sjg']\n",
    "\n",
    "# días a observar: todo el mes '01' - '31'\n",
    "qs=pd.Series(range(1,32))\n",
    "qs=pd.Series.tolist(qs.apply(lambda x: '{0:0>2}'.format(x)))\n",
    "print(qs)\n",
    "\n",
    "# variable para guardar todos los datos (1440 minutos) de los cuatro observatorios,\n",
    "# los días necesarios\n",
    "dat = np.zeros([len(obs),len(qs),1440])\n",
    "\n",
    "# leer todos los días en calma del mes para cada observatorio (sólo la componente H (c1))\n",
    "for o in obs:\n",
    "    for q in qs:\n",
    "        filename=folder + o + '/' + o + month + q + 'qmin.min'\n",
    "        df=read_im(filename=filename)\n",
    "        datah=df['data']\n",
    "        dat[obs.index(o)][qs.index(q)][:]=datah.c1\n",
    "        \n",
    "# Todos los días de SJG\n",
    "sjg = dat[3][:][:].reshape(-1)\n",
    "plt.plot(sjg);"
   ]
  },
  {
   "cell_type": "code",
   "execution_count": 2,
   "id": "0662b81a-df7a-4a40-8de6-7f1ef7e2a0dd",
   "metadata": {},
   "outputs": [
    {
     "name": "stdout",
     "output_type": "stream",
     "text": [
      "(array([16657, 16658, 16659, 16660, 16661, 16662, 16663, 16664, 16665,\n",
      "       16666, 16667, 16668, 16669, 16670, 16671, 16672, 16673, 16674,\n",
      "       16675, 16676, 16677, 16678, 16679, 16680, 16681, 16682, 16683,\n",
      "       16684, 16685, 16686, 16687, 16688, 16689, 16690, 16691, 16692,\n",
      "       16693, 16694, 16695, 16696, 16697, 16698, 16699, 16700, 16701,\n",
      "       16702, 16703, 16704, 16705, 16706, 16707, 16708, 16709, 16710,\n",
      "       16711, 16712, 16713, 16714, 16715, 16716, 16717, 16718, 16719,\n",
      "       16720, 16721, 16722, 16723, 16724, 16725, 16726, 16727, 16728,\n",
      "       16729, 16730, 16731, 16732, 16733, 16734, 16735, 16736, 16737,\n",
      "       16738, 16739, 16740, 16741, 16742, 16743, 16744, 16745, 16746,\n",
      "       16747, 16748, 16749, 16750, 35586, 35587, 35588, 35589, 35590,\n",
      "       35591, 35592, 35593, 35594], dtype=int64),)\n"
     ]
    },
    {
     "data": {
      "image/png": "[encoded data removed]",
      "text/plain": [
       "<Figure size 432x288 with 1 Axes>"
      ]
     },
     "metadata": {
      "needs_background": "light"
     },
     "output_type": "display_data"
    }
   ],
   "source": [
    "plt.plot(sjg);\n",
    "print( np.where(sjg == 99999))\n",
    "sjg=np.where(sjg == 99999,sjg*np.nan,sjg)\n",
    "plt.plot(sjg);"
   ]
  },
  {
   "cell_type": "code",
   "execution_count": null,
   "id": "36199eba-78b0-4078-b665-0527771579b5",
   "metadata": {},
   "outputs": [],
   "source": []
  }
 ],
 "metadata": {
  "kernelspec": {
   "display_name": "Python 3 (ipykernel)",
   "language": "python",
   "name": "python3"
  },
  "language_info": {
   "codemirror_mode": {
    "name": "ipython",
    "version": 3
   },
   "file_extension": ".py",
   "mimetype": "text/x-python",
   "name": "python",
   "nbconvert_exporter": "python",
   "pygments_lexer": "ipython3",
   "version": "3.9.7"
  }
 },
 "nbformat": 4,
 "nbformat_minor": 5
}
