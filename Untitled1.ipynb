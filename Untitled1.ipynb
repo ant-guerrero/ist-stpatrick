{
 "cells": [
  {
   "cell_type": "code",
   "execution_count": 14,
   "id": "3d361090-1d95-492e-b915-75bfb5ad3383",
   "metadata": {},
   "outputs": [
    {
     "name": "stdout",
     "output_type": "stream",
     "text": [
      "0      -1533.82\n",
      "1      -1533.82\n",
      "2      -1533.82\n",
      "3      -1533.81\n",
      "4      -1533.83\n",
      "         ...   \n",
      "1435   -1534.22\n",
      "1436   -1534.29\n",
      "1437   -1534.32\n",
      "1438   -1534.32\n",
      "1439   -1534.38\n",
      "Name: c2, Length: 1440, dtype: float64\n",
      "0       10614.2\n",
      "1       10614.2\n",
      "2       10614.2\n",
      "3       10614.2\n",
      "4       10614.2\n",
      "         ...   \n",
      "1435    10616.7\n",
      "1436    10616.7\n",
      "1437    10616.7\n",
      "1438    10616.7\n",
      "1439    10616.7\n",
      "Name: c1, Length: 1440, dtype: float64\n",
      "0      -1533.82\n",
      "1      -1533.82\n",
      "2      -1533.82\n",
      "3      -1533.81\n",
      "4      -1533.83\n",
      "         ...   \n",
      "1435   -1534.22\n",
      "1436   -1534.29\n",
      "1437   -1534.32\n",
      "1438   -1534.32\n",
      "1439   -1534.38\n",
      "Name: c2, Length: 1440, dtype: float64\n",
      "0       10724.450822\n",
      "1       10724.450822\n",
      "2       10724.450822\n",
      "3       10724.449392\n",
      "4       10724.452252\n",
      "            ...     \n",
      "1435    10726.982330\n",
      "1436    10726.992341\n",
      "1437    10726.996632\n",
      "1438    10726.996632\n",
      "1439    10727.005215\n",
      "Length: 1440, dtype: float64\n",
      "0       10724.450822\n",
      "1       10724.450822\n",
      "2       10724.450822\n",
      "3       10724.449392\n",
      "4       10724.452252\n",
      "            ...     \n",
      "1435    10726.982330\n",
      "1436    10726.992341\n",
      "1437    10726.996632\n",
      "1438    10726.996632\n",
      "1439    10727.005215\n",
      "Name: c1, Length: 1440, dtype: float64\n"
     ]
    }
   ],
   "source": [
    " # nuestra librería\n",
    "import ist_lib as ist\n",
    "# importamos las librerías que vamos a necesitar\n",
    "import pandas as pd\n",
    "import numpy as np\n",
    "\n",
    "folder='dst_stations/2015-03/'\n",
    "month='201503'\n",
    "\n",
    "o='her'\n",
    "q='10'\n",
    "filename=folder + o + '/' + o + month + q + 'qmin.min'\n",
    "    \n",
    "    \n",
    " \n",
    "dd=dict();\n",
    "\n",
    "# leer el fichero por líneas\n",
    "f=open(filename)\n",
    "lines=f.readlines()\n",
    "\n",
    "# obtener el tamaño de la cabecera\n",
    "head_size=0\n",
    "while lines[head_size][0] != 'D':\n",
    "    head_size+=1\n",
    "\n",
    "names=['datetime','doy','c1','c2','c3','c4']\n",
    "colspecs=[(0,23), (25,27), (32,40), (42,50), (52,60), (62,70)]\n",
    "data=pd.read_fwf(filename,header=head_size,names=names, colspecs=colspecs)\n",
    "\n",
    "# comprobar si el formato es 'HDZF' y convertir si es necesario\n",
    "#if comp != 'HDZF':\n",
    "x = data.c1\n",
    "y = data.c2\n",
    "h = np.sqrt(x**2+y**2)\n",
    "d = 180./np.pi*60.*np.arctan2(y,x)\n",
    "\n",
    "data.c1=h\n",
    "data.c2=d"
   ]
  },
  {
   "cell_type": "code",
   "execution_count": 8,
   "id": "3c0c3505-0748-4b8e-af82-453747cc5dfe",
   "metadata": {},
   "outputs": [
    {
     "name": "stdout",
     "output_type": "stream",
     "text": [
      "False\n"
     ]
    }
   ],
   "source": [
    "print(d is y)"
   ]
  },
  {
   "cell_type": "code",
   "execution_count": null,
   "id": "9c849bdf-2d48-4db7-b128-26a3699f2d40",
   "metadata": {},
   "outputs": [],
   "source": []
  }
 ],
 "metadata": {
  "kernelspec": {
   "display_name": "Python 3 (ipykernel)",
   "language": "python",
   "name": "python3"
  },
  "language_info": {
   "codemirror_mode": {
    "name": "ipython",
    "version": 3
   },
   "file_extension": ".py",
   "mimetype": "text/x-python",
   "name": "python",
   "nbconvert_exporter": "python",
   "pygments_lexer": "ipython3",
   "version": "3.9.7"
  }
 },
 "nbformat": 4,
 "nbformat_minor": 5
}
