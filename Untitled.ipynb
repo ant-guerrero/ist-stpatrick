{
 "cells": [
  {
   "cell_type": "code",
   "execution_count": 2,
   "id": "6c8c4083-29a7-42c4-b1bc-02827092f98e",
   "metadata": {},
   "outputs": [
    {
     "data": {
      "image/png": "[encoded data removed]",
      "text/plain": [
       "<Figure size 432x288 with 1 Axes>"
      ]
     },
     "metadata": {
      "needs_background": "light"
     },
     "output_type": "display_data"
    }
   ],
   "source": [
    "# importamos las librerías que vamos a necesitar\n",
    "import pandas as pd\n",
    "import matplotlib.pyplot as plt\n",
    "import matplotlib.dates as mdates\n",
    "import datetime\n",
    "\n",
    "# nuestra librería\n",
    "import ist_lib as ist\n",
    "\n",
    "filename='dst_stations/2015-03/her/her20150310qmin.min'\n",
    "lat=0.\n",
    "lon=0.\n",
    "comp='---'\n",
    "\n",
    "df=ist.read_im(filename=filename, lat=lat, lon=lon, comp=comp)\n",
    "\n",
    "# creamos las variables que nos servirán luego\n",
    "tiempo=pd.to_datetime(df.datetime.apply(str), format = '%Y-%m-%d %H:%M:%S.%f')\n",
    "dat1=df.c1   # componente 1\n",
    "\n",
    "# creamos la figura para la componente 1\n",
    "fig,ax = plt.subplots()\n",
    "ax.plot(tiempo,dat1)\n",
    "\n",
    "# modificamos los formatos de los ejes\n",
    "ax.xaxis.set_major_formatter(mdates.DateFormatter(\"%Y-%m-%d %H:%M\"))\n",
    "ax.xaxis.set_minor_formatter(mdates.DateFormatter(\"%Y-%m-%d %H:%M\"))\n",
    "_ = plt.xticks(rotation=90) "
   ]
  },
  {
   "cell_type": "code",
   "execution_count": 12,
   "id": "9488777f-6d5c-4b8c-8503-62bba1b2fed5",
   "metadata": {},
   "outputs": [
    {
     "name": "stdout",
     "output_type": "stream",
     "text": [
      "F\n",
      "20\n"
     ]
    }
   ],
   "source": [
    "    names=['datetime','doy','c1','c2','c3','c4']\n",
    "    colspecs=[(0,23), (25,27), (32,40), (42,50), (52,60), (62,70)]\n",
    "    data=pd.read_fwf(filename,header=20,names=names, colspecs=colspecs)\n",
    "    \n",
    "    # leer el fichero por líneas\n",
    "    f=open(filename)\n",
    "    lines=f.readlines()\n",
    "    \n",
    "    # obtener el tamaño de la cabecera\n",
    "    head_size=0\n",
    "    print(lines[0][1])\n",
    "    while lines[head_size][0] != 'D':\n",
    "        head_size+=1\n",
    "        \n",
    "print(head_size)\n",
    "    \n",
    "    # obtener las componentes: 'HDZF', 'XYZF' u otras\n",
    "    comp=lines[7].split()[1]\n",
    "    \n",
    "    # obtener la latitud y la longitud geográfica del observatorio\n",
    "    lat=lines[4].split()[2]\n",
    "    lon=lines[5].split()[2]"
   ]
  },
  {
   "cell_type": "code",
   "execution_count": 14,
   "id": "fb61d5ee-91b4-40fa-bbd3-96f6c1f69f44",
   "metadata": {},
   "outputs": [
    {
     "name": "stdout",
     "output_type": "stream",
     "text": [
      "15.203125000000002\n"
     ]
    }
   ],
   "source": [
    "from scipy import interpolate\n",
    "\n",
    "def spline(x):\n",
    "    x_points = [ 0, 1, 2, 3, 4, 5]\n",
    "    y_points = [12,14,22,39,58,77]\n",
    "\n",
    "    tck = interpolate.splrep(x_points, y_points)\n",
    "    return interpolate.splev(x, tck)\n",
    "\n",
    "print(spline(1.25))"
   ]
  },
  {
   "cell_type": "code",
   "execution_count": null,
   "id": "81f1384b-46f1-4abb-8365-8468554da558",
   "metadata": {},
   "outputs": [],
   "source": []
  }
 ],
 "metadata": {
  "kernelspec": {
   "display_name": "Python 3 (ipykernel)",
   "language": "python",
   "name": "python3"
  },
  "language_info": {
   "codemirror_mode": {
    "name": "ipython",
    "version": 3
   },
   "file_extension": ".py",
   "mimetype": "text/x-python",
   "name": "python",
   "nbconvert_exporter": "python",
   "pygments_lexer": "ipython3",
   "version": "3.9.7"
  }
 },
 "nbformat": 4,
 "nbformat_minor": 5
}
